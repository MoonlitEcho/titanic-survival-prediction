{
 "cells": [
  {
   "cell_type": "code",
   "execution_count": 1,
   "id": "a2da6786",
   "metadata": {
    "_cell_guid": "b1076dfc-b9ad-4769-8c92-a6c4dae69d19",
    "_uuid": "8f2839f25d086af736a60e9eeb907d3b93b6e0e5",
    "execution": {
     "iopub.execute_input": "2025-05-23T04:29:16.611765Z",
     "iopub.status.busy": "2025-05-23T04:29:16.611384Z",
     "iopub.status.idle": "2025-05-23T04:29:18.781881Z",
     "shell.execute_reply": "2025-05-23T04:29:18.780712Z"
    },
    "papermill": {
     "duration": 2.181093,
     "end_time": "2025-05-23T04:29:18.783553",
     "exception": false,
     "start_time": "2025-05-23T04:29:16.602460",
     "status": "completed"
    },
    "tags": []
   },
   "outputs": [
    {
     "name": "stdout",
     "output_type": "stream",
     "text": [
      "/kaggle/input/titanic/train.csv\n",
      "/kaggle/input/titanic/test.csv\n",
      "/kaggle/input/titanic/gender_submission.csv\n"
     ]
    }
   ],
   "source": [
    "# This Python 3 environment comes with many helpful analytics libraries installed\n",
    "# It is defined by the kaggle/python Docker image: https://github.com/kaggle/docker-python\n",
    "# For example, here's several helpful packages to load\n",
    "\n",
    "import numpy as np # linear algebra\n",
    "import pandas as pd # data processing, CSV file I/O (e.g. pd.read_csv)\n",
    "\n",
    "# Input data files are available in the read-only \"../input/\" directory\n",
    "# For example, running this (by clicking run or pressing Shift+Enter) will list all files under the input directory\n",
    "\n",
    "import os\n",
    "for dirname, _, filenames in os.walk('/kaggle/input'):\n",
    "    for filename in filenames:\n",
    "        print(os.path.join(dirname, filename))\n",
    "\n",
    "# You can write up to 20GB to the current directory (/kaggle/working/) that gets preserved as output when you create a version using \"Save & Run All\" \n",
    "# You can also write temporary files to /kaggle/temp/, but they won't be saved outside of the current session"
   ]
  },
  {
   "cell_type": "code",
   "execution_count": 2,
   "id": "7add1af3",
   "metadata": {
    "execution": {
     "iopub.execute_input": "2025-05-23T04:29:18.799103Z",
     "iopub.status.busy": "2025-05-23T04:29:18.798407Z",
     "iopub.status.idle": "2025-05-23T04:29:21.384868Z",
     "shell.execute_reply": "2025-05-23T04:29:21.383719Z"
    },
    "papermill": {
     "duration": 2.595931,
     "end_time": "2025-05-23T04:29:21.386659",
     "exception": false,
     "start_time": "2025-05-23T04:29:18.790728",
     "status": "completed"
    },
    "tags": []
   },
   "outputs": [],
   "source": [
    "import seaborn as sns\n",
    "import matplotlib.pyplot as plt\n",
    "from sklearn.preprocessing import LabelEncoder\n",
    "from sklearn.model_selection import train_test_split"
   ]
  },
  {
   "cell_type": "markdown",
   "id": "2486d053",
   "metadata": {
    "papermill": {
     "duration": 0.006317,
     "end_time": "2025-05-23T04:29:21.399962",
     "exception": false,
     "start_time": "2025-05-23T04:29:21.393645",
     "status": "completed"
    },
    "tags": []
   },
   "source": [
    "**LOAD THE DATASET**"
   ]
  },
  {
   "cell_type": "code",
   "execution_count": 3,
   "id": "7004caa6",
   "metadata": {
    "execution": {
     "iopub.execute_input": "2025-05-23T04:29:21.415111Z",
     "iopub.status.busy": "2025-05-23T04:29:21.414170Z",
     "iopub.status.idle": "2025-05-23T04:29:21.460802Z",
     "shell.execute_reply": "2025-05-23T04:29:21.459837Z"
    },
    "papermill": {
     "duration": 0.055886,
     "end_time": "2025-05-23T04:29:21.462469",
     "exception": false,
     "start_time": "2025-05-23T04:29:21.406583",
     "status": "completed"
    },
    "tags": []
   },
   "outputs": [],
   "source": [
    "train_data=pd.read_csv(\"/kaggle/input/titanic/train.csv\")\n",
    "test_data=pd.read_csv(\"/kaggle/input/titanic/test.csv\")\n",
    "df=pd.concat([train_data,test_data],axis=0)\n"
   ]
  },
  {
   "cell_type": "markdown",
   "id": "bd5a34ea",
   "metadata": {
    "papermill": {
     "duration": 0.006687,
     "end_time": "2025-05-23T04:29:21.475817",
     "exception": false,
     "start_time": "2025-05-23T04:29:21.469130",
     "status": "completed"
    },
    "tags": []
   },
   "source": [
    "**Explore the data (EDA)**"
   ]
  },
  {
   "cell_type": "code",
   "execution_count": 4,
   "id": "35eaabad",
   "metadata": {
    "execution": {
     "iopub.execute_input": "2025-05-23T04:29:21.490132Z",
     "iopub.status.busy": "2025-05-23T04:29:21.489707Z",
     "iopub.status.idle": "2025-05-23T04:29:21.517406Z",
     "shell.execute_reply": "2025-05-23T04:29:21.516248Z"
    },
    "papermill": {
     "duration": 0.036753,
     "end_time": "2025-05-23T04:29:21.518982",
     "exception": false,
     "start_time": "2025-05-23T04:29:21.482229",
     "status": "completed"
    },
    "tags": []
   },
   "outputs": [
    {
     "data": {
      "text/html": [
       "<div>\n",
       "<style scoped>\n",
       "    .dataframe tbody tr th:only-of-type {\n",
       "        vertical-align: middle;\n",
       "    }\n",
       "\n",
       "    .dataframe tbody tr th {\n",
       "        vertical-align: top;\n",
       "    }\n",
       "\n",
       "    .dataframe thead th {\n",
       "        text-align: right;\n",
       "    }\n",
       "</style>\n",
       "<table border=\"1\" class=\"dataframe\">\n",
       "  <thead>\n",
       "    <tr style=\"text-align: right;\">\n",
       "      <th></th>\n",
       "      <th>PassengerId</th>\n",
       "      <th>Survived</th>\n",
       "      <th>Pclass</th>\n",
       "      <th>Name</th>\n",
       "      <th>Sex</th>\n",
       "      <th>Age</th>\n",
       "      <th>SibSp</th>\n",
       "      <th>Parch</th>\n",
       "      <th>Ticket</th>\n",
       "      <th>Fare</th>\n",
       "      <th>Cabin</th>\n",
       "      <th>Embarked</th>\n",
       "    </tr>\n",
       "  </thead>\n",
       "  <tbody>\n",
       "    <tr>\n",
       "      <th>0</th>\n",
       "      <td>1</td>\n",
       "      <td>0.0</td>\n",
       "      <td>3</td>\n",
       "      <td>Braund, Mr. Owen Harris</td>\n",
       "      <td>male</td>\n",
       "      <td>22.0</td>\n",
       "      <td>1</td>\n",
       "      <td>0</td>\n",
       "      <td>A/5 21171</td>\n",
       "      <td>7.2500</td>\n",
       "      <td>NaN</td>\n",
       "      <td>S</td>\n",
       "    </tr>\n",
       "    <tr>\n",
       "      <th>1</th>\n",
       "      <td>2</td>\n",
       "      <td>1.0</td>\n",
       "      <td>1</td>\n",
       "      <td>Cumings, Mrs. John Bradley (Florence Briggs Th...</td>\n",
       "      <td>female</td>\n",
       "      <td>38.0</td>\n",
       "      <td>1</td>\n",
       "      <td>0</td>\n",
       "      <td>PC 17599</td>\n",
       "      <td>71.2833</td>\n",
       "      <td>C85</td>\n",
       "      <td>C</td>\n",
       "    </tr>\n",
       "    <tr>\n",
       "      <th>2</th>\n",
       "      <td>3</td>\n",
       "      <td>1.0</td>\n",
       "      <td>3</td>\n",
       "      <td>Heikkinen, Miss. Laina</td>\n",
       "      <td>female</td>\n",
       "      <td>26.0</td>\n",
       "      <td>0</td>\n",
       "      <td>0</td>\n",
       "      <td>STON/O2. 3101282</td>\n",
       "      <td>7.9250</td>\n",
       "      <td>NaN</td>\n",
       "      <td>S</td>\n",
       "    </tr>\n",
       "    <tr>\n",
       "      <th>3</th>\n",
       "      <td>4</td>\n",
       "      <td>1.0</td>\n",
       "      <td>1</td>\n",
       "      <td>Futrelle, Mrs. Jacques Heath (Lily May Peel)</td>\n",
       "      <td>female</td>\n",
       "      <td>35.0</td>\n",
       "      <td>1</td>\n",
       "      <td>0</td>\n",
       "      <td>113803</td>\n",
       "      <td>53.1000</td>\n",
       "      <td>C123</td>\n",
       "      <td>S</td>\n",
       "    </tr>\n",
       "    <tr>\n",
       "      <th>4</th>\n",
       "      <td>5</td>\n",
       "      <td>0.0</td>\n",
       "      <td>3</td>\n",
       "      <td>Allen, Mr. William Henry</td>\n",
       "      <td>male</td>\n",
       "      <td>35.0</td>\n",
       "      <td>0</td>\n",
       "      <td>0</td>\n",
       "      <td>373450</td>\n",
       "      <td>8.0500</td>\n",
       "      <td>NaN</td>\n",
       "      <td>S</td>\n",
       "    </tr>\n",
       "  </tbody>\n",
       "</table>\n",
       "</div>"
      ],
      "text/plain": [
       "   PassengerId  Survived  Pclass  \\\n",
       "0            1       0.0       3   \n",
       "1            2       1.0       1   \n",
       "2            3       1.0       3   \n",
       "3            4       1.0       1   \n",
       "4            5       0.0       3   \n",
       "\n",
       "                                                Name     Sex   Age  SibSp  \\\n",
       "0                            Braund, Mr. Owen Harris    male  22.0      1   \n",
       "1  Cumings, Mrs. John Bradley (Florence Briggs Th...  female  38.0      1   \n",
       "2                             Heikkinen, Miss. Laina  female  26.0      0   \n",
       "3       Futrelle, Mrs. Jacques Heath (Lily May Peel)  female  35.0      1   \n",
       "4                           Allen, Mr. William Henry    male  35.0      0   \n",
       "\n",
       "   Parch            Ticket     Fare Cabin Embarked  \n",
       "0      0         A/5 21171   7.2500   NaN        S  \n",
       "1      0          PC 17599  71.2833   C85        C  \n",
       "2      0  STON/O2. 3101282   7.9250   NaN        S  \n",
       "3      0            113803  53.1000  C123        S  \n",
       "4      0            373450   8.0500   NaN        S  "
      ]
     },
     "execution_count": 4,
     "metadata": {},
     "output_type": "execute_result"
    }
   ],
   "source": [
    "df.head()"
   ]
  },
  {
   "cell_type": "code",
   "execution_count": 5,
   "id": "27b14352",
   "metadata": {
    "execution": {
     "iopub.execute_input": "2025-05-23T04:29:21.534404Z",
     "iopub.status.busy": "2025-05-23T04:29:21.534089Z",
     "iopub.status.idle": "2025-05-23T04:29:21.540466Z",
     "shell.execute_reply": "2025-05-23T04:29:21.539495Z"
    },
    "papermill": {
     "duration": 0.015846,
     "end_time": "2025-05-23T04:29:21.542088",
     "exception": false,
     "start_time": "2025-05-23T04:29:21.526242",
     "status": "completed"
    },
    "tags": []
   },
   "outputs": [
    {
     "data": {
      "text/plain": [
       "(1309, 12)"
      ]
     },
     "execution_count": 5,
     "metadata": {},
     "output_type": "execute_result"
    }
   ],
   "source": [
    "df.shape"
   ]
  },
  {
   "cell_type": "code",
   "execution_count": 6,
   "id": "69d83875",
   "metadata": {
    "execution": {
     "iopub.execute_input": "2025-05-23T04:29:21.557247Z",
     "iopub.status.busy": "2025-05-23T04:29:21.556949Z",
     "iopub.status.idle": "2025-05-23T04:29:21.564601Z",
     "shell.execute_reply": "2025-05-23T04:29:21.563305Z"
    },
    "papermill": {
     "duration": 0.017274,
     "end_time": "2025-05-23T04:29:21.566535",
     "exception": false,
     "start_time": "2025-05-23T04:29:21.549261",
     "status": "completed"
    },
    "tags": []
   },
   "outputs": [
    {
     "data": {
      "text/plain": [
       "PassengerId      int64\n",
       "Survived       float64\n",
       "Pclass           int64\n",
       "Name            object\n",
       "Sex             object\n",
       "Age            float64\n",
       "SibSp            int64\n",
       "Parch            int64\n",
       "Ticket          object\n",
       "Fare           float64\n",
       "Cabin           object\n",
       "Embarked        object\n",
       "dtype: object"
      ]
     },
     "execution_count": 6,
     "metadata": {},
     "output_type": "execute_result"
    }
   ],
   "source": [
    "df.dtypes"
   ]
  },
  {
   "cell_type": "code",
   "execution_count": 7,
   "id": "30fa620f",
   "metadata": {
    "execution": {
     "iopub.execute_input": "2025-05-23T04:29:21.582861Z",
     "iopub.status.busy": "2025-05-23T04:29:21.581875Z",
     "iopub.status.idle": "2025-05-23T04:29:21.590584Z",
     "shell.execute_reply": "2025-05-23T04:29:21.589669Z"
    },
    "papermill": {
     "duration": 0.018564,
     "end_time": "2025-05-23T04:29:21.592100",
     "exception": false,
     "start_time": "2025-05-23T04:29:21.573536",
     "status": "completed"
    },
    "tags": []
   },
   "outputs": [
    {
     "data": {
      "text/plain": [
       "PassengerId      0\n",
       "Survived         0\n",
       "Pclass           0\n",
       "Name             0\n",
       "Sex              0\n",
       "Age            177\n",
       "SibSp            0\n",
       "Parch            0\n",
       "Ticket           0\n",
       "Fare             0\n",
       "Cabin          687\n",
       "Embarked         2\n",
       "dtype: int64"
      ]
     },
     "execution_count": 7,
     "metadata": {},
     "output_type": "execute_result"
    }
   ],
   "source": [
    "train_data.isnull().sum()"
   ]
  },
  {
   "cell_type": "code",
   "execution_count": 8,
   "id": "62a2e606",
   "metadata": {
    "execution": {
     "iopub.execute_input": "2025-05-23T04:29:21.607582Z",
     "iopub.status.busy": "2025-05-23T04:29:21.607211Z",
     "iopub.status.idle": "2025-05-23T04:29:21.636604Z",
     "shell.execute_reply": "2025-05-23T04:29:21.635647Z"
    },
    "papermill": {
     "duration": 0.039051,
     "end_time": "2025-05-23T04:29:21.638285",
     "exception": false,
     "start_time": "2025-05-23T04:29:21.599234",
     "status": "completed"
    },
    "tags": []
   },
   "outputs": [
    {
     "data": {
      "text/html": [
       "<div>\n",
       "<style scoped>\n",
       "    .dataframe tbody tr th:only-of-type {\n",
       "        vertical-align: middle;\n",
       "    }\n",
       "\n",
       "    .dataframe tbody tr th {\n",
       "        vertical-align: top;\n",
       "    }\n",
       "\n",
       "    .dataframe thead th {\n",
       "        text-align: right;\n",
       "    }\n",
       "</style>\n",
       "<table border=\"1\" class=\"dataframe\">\n",
       "  <thead>\n",
       "    <tr style=\"text-align: right;\">\n",
       "      <th></th>\n",
       "      <th>PassengerId</th>\n",
       "      <th>Survived</th>\n",
       "      <th>Pclass</th>\n",
       "      <th>Age</th>\n",
       "      <th>SibSp</th>\n",
       "      <th>Parch</th>\n",
       "      <th>Fare</th>\n",
       "    </tr>\n",
       "  </thead>\n",
       "  <tbody>\n",
       "    <tr>\n",
       "      <th>count</th>\n",
       "      <td>1309.000000</td>\n",
       "      <td>891.000000</td>\n",
       "      <td>1309.000000</td>\n",
       "      <td>1046.000000</td>\n",
       "      <td>1309.000000</td>\n",
       "      <td>1309.000000</td>\n",
       "      <td>1308.000000</td>\n",
       "    </tr>\n",
       "    <tr>\n",
       "      <th>mean</th>\n",
       "      <td>655.000000</td>\n",
       "      <td>0.383838</td>\n",
       "      <td>2.294882</td>\n",
       "      <td>29.881138</td>\n",
       "      <td>0.498854</td>\n",
       "      <td>0.385027</td>\n",
       "      <td>33.295479</td>\n",
       "    </tr>\n",
       "    <tr>\n",
       "      <th>std</th>\n",
       "      <td>378.020061</td>\n",
       "      <td>0.486592</td>\n",
       "      <td>0.837836</td>\n",
       "      <td>14.413493</td>\n",
       "      <td>1.041658</td>\n",
       "      <td>0.865560</td>\n",
       "      <td>51.758668</td>\n",
       "    </tr>\n",
       "    <tr>\n",
       "      <th>min</th>\n",
       "      <td>1.000000</td>\n",
       "      <td>0.000000</td>\n",
       "      <td>1.000000</td>\n",
       "      <td>0.170000</td>\n",
       "      <td>0.000000</td>\n",
       "      <td>0.000000</td>\n",
       "      <td>0.000000</td>\n",
       "    </tr>\n",
       "    <tr>\n",
       "      <th>25%</th>\n",
       "      <td>328.000000</td>\n",
       "      <td>0.000000</td>\n",
       "      <td>2.000000</td>\n",
       "      <td>21.000000</td>\n",
       "      <td>0.000000</td>\n",
       "      <td>0.000000</td>\n",
       "      <td>7.895800</td>\n",
       "    </tr>\n",
       "    <tr>\n",
       "      <th>50%</th>\n",
       "      <td>655.000000</td>\n",
       "      <td>0.000000</td>\n",
       "      <td>3.000000</td>\n",
       "      <td>28.000000</td>\n",
       "      <td>0.000000</td>\n",
       "      <td>0.000000</td>\n",
       "      <td>14.454200</td>\n",
       "    </tr>\n",
       "    <tr>\n",
       "      <th>75%</th>\n",
       "      <td>982.000000</td>\n",
       "      <td>1.000000</td>\n",
       "      <td>3.000000</td>\n",
       "      <td>39.000000</td>\n",
       "      <td>1.000000</td>\n",
       "      <td>0.000000</td>\n",
       "      <td>31.275000</td>\n",
       "    </tr>\n",
       "    <tr>\n",
       "      <th>max</th>\n",
       "      <td>1309.000000</td>\n",
       "      <td>1.000000</td>\n",
       "      <td>3.000000</td>\n",
       "      <td>80.000000</td>\n",
       "      <td>8.000000</td>\n",
       "      <td>9.000000</td>\n",
       "      <td>512.329200</td>\n",
       "    </tr>\n",
       "  </tbody>\n",
       "</table>\n",
       "</div>"
      ],
      "text/plain": [
       "       PassengerId    Survived       Pclass          Age        SibSp  \\\n",
       "count  1309.000000  891.000000  1309.000000  1046.000000  1309.000000   \n",
       "mean    655.000000    0.383838     2.294882    29.881138     0.498854   \n",
       "std     378.020061    0.486592     0.837836    14.413493     1.041658   \n",
       "min       1.000000    0.000000     1.000000     0.170000     0.000000   \n",
       "25%     328.000000    0.000000     2.000000    21.000000     0.000000   \n",
       "50%     655.000000    0.000000     3.000000    28.000000     0.000000   \n",
       "75%     982.000000    1.000000     3.000000    39.000000     1.000000   \n",
       "max    1309.000000    1.000000     3.000000    80.000000     8.000000   \n",
       "\n",
       "             Parch         Fare  \n",
       "count  1309.000000  1308.000000  \n",
       "mean      0.385027    33.295479  \n",
       "std       0.865560    51.758668  \n",
       "min       0.000000     0.000000  \n",
       "25%       0.000000     7.895800  \n",
       "50%       0.000000    14.454200  \n",
       "75%       0.000000    31.275000  \n",
       "max       9.000000   512.329200  "
      ]
     },
     "execution_count": 8,
     "metadata": {},
     "output_type": "execute_result"
    }
   ],
   "source": [
    "df.describe()"
   ]
  },
  {
   "cell_type": "code",
   "execution_count": 9,
   "id": "10b0028f",
   "metadata": {
    "execution": {
     "iopub.execute_input": "2025-05-23T04:29:21.656292Z",
     "iopub.status.busy": "2025-05-23T04:29:21.655619Z",
     "iopub.status.idle": "2025-05-23T04:29:21.670802Z",
     "shell.execute_reply": "2025-05-23T04:29:21.669843Z"
    },
    "papermill": {
     "duration": 0.026495,
     "end_time": "2025-05-23T04:29:21.672450",
     "exception": false,
     "start_time": "2025-05-23T04:29:21.645955",
     "status": "completed"
    },
    "tags": []
   },
   "outputs": [
    {
     "data": {
      "text/html": [
       "<div>\n",
       "<style scoped>\n",
       "    .dataframe tbody tr th:only-of-type {\n",
       "        vertical-align: middle;\n",
       "    }\n",
       "\n",
       "    .dataframe tbody tr th {\n",
       "        vertical-align: top;\n",
       "    }\n",
       "\n",
       "    .dataframe thead th {\n",
       "        text-align: right;\n",
       "    }\n",
       "</style>\n",
       "<table border=\"1\" class=\"dataframe\">\n",
       "  <thead>\n",
       "    <tr style=\"text-align: right;\">\n",
       "      <th></th>\n",
       "      <th>Pclass</th>\n",
       "      <th>Survived</th>\n",
       "    </tr>\n",
       "  </thead>\n",
       "  <tbody>\n",
       "    <tr>\n",
       "      <th>0</th>\n",
       "      <td>1</td>\n",
       "      <td>0.629630</td>\n",
       "    </tr>\n",
       "    <tr>\n",
       "      <th>1</th>\n",
       "      <td>2</td>\n",
       "      <td>0.472826</td>\n",
       "    </tr>\n",
       "    <tr>\n",
       "      <th>2</th>\n",
       "      <td>3</td>\n",
       "      <td>0.242363</td>\n",
       "    </tr>\n",
       "  </tbody>\n",
       "</table>\n",
       "</div>"
      ],
      "text/plain": [
       "   Pclass  Survived\n",
       "0       1  0.629630\n",
       "1       2  0.472826\n",
       "2       3  0.242363"
      ]
     },
     "execution_count": 9,
     "metadata": {},
     "output_type": "execute_result"
    }
   ],
   "source": [
    "df.groupby([\"Pclass\"], as_index=False)[\"Survived\"].mean()"
   ]
  },
  {
   "cell_type": "code",
   "execution_count": 10,
   "id": "bdfedfe7",
   "metadata": {
    "execution": {
     "iopub.execute_input": "2025-05-23T04:29:21.688684Z",
     "iopub.status.busy": "2025-05-23T04:29:21.688287Z",
     "iopub.status.idle": "2025-05-23T04:29:21.700501Z",
     "shell.execute_reply": "2025-05-23T04:29:21.699607Z"
    },
    "papermill": {
     "duration": 0.022051,
     "end_time": "2025-05-23T04:29:21.702072",
     "exception": false,
     "start_time": "2025-05-23T04:29:21.680021",
     "status": "completed"
    },
    "tags": []
   },
   "outputs": [
    {
     "data": {
      "text/html": [
       "<div>\n",
       "<style scoped>\n",
       "    .dataframe tbody tr th:only-of-type {\n",
       "        vertical-align: middle;\n",
       "    }\n",
       "\n",
       "    .dataframe tbody tr th {\n",
       "        vertical-align: top;\n",
       "    }\n",
       "\n",
       "    .dataframe thead th {\n",
       "        text-align: right;\n",
       "    }\n",
       "</style>\n",
       "<table border=\"1\" class=\"dataframe\">\n",
       "  <thead>\n",
       "    <tr style=\"text-align: right;\">\n",
       "      <th></th>\n",
       "      <th>Sex</th>\n",
       "      <th>Survived</th>\n",
       "    </tr>\n",
       "  </thead>\n",
       "  <tbody>\n",
       "    <tr>\n",
       "      <th>0</th>\n",
       "      <td>female</td>\n",
       "      <td>0.742038</td>\n",
       "    </tr>\n",
       "    <tr>\n",
       "      <th>1</th>\n",
       "      <td>male</td>\n",
       "      <td>0.188908</td>\n",
       "    </tr>\n",
       "  </tbody>\n",
       "</table>\n",
       "</div>"
      ],
      "text/plain": [
       "      Sex  Survived\n",
       "0  female  0.742038\n",
       "1    male  0.188908"
      ]
     },
     "execution_count": 10,
     "metadata": {},
     "output_type": "execute_result"
    }
   ],
   "source": [
    "df.groupby([\"Sex\"], as_index=False)[\"Survived\"].mean()"
   ]
  },
  {
   "cell_type": "code",
   "execution_count": 11,
   "id": "0013a9c3",
   "metadata": {
    "execution": {
     "iopub.execute_input": "2025-05-23T04:29:21.718618Z",
     "iopub.status.busy": "2025-05-23T04:29:21.718264Z",
     "iopub.status.idle": "2025-05-23T04:29:21.729626Z",
     "shell.execute_reply": "2025-05-23T04:29:21.728239Z"
    },
    "papermill": {
     "duration": 0.021575,
     "end_time": "2025-05-23T04:29:21.731334",
     "exception": false,
     "start_time": "2025-05-23T04:29:21.709759",
     "status": "completed"
    },
    "tags": []
   },
   "outputs": [
    {
     "data": {
      "text/html": [
       "<div>\n",
       "<style scoped>\n",
       "    .dataframe tbody tr th:only-of-type {\n",
       "        vertical-align: middle;\n",
       "    }\n",
       "\n",
       "    .dataframe tbody tr th {\n",
       "        vertical-align: top;\n",
       "    }\n",
       "\n",
       "    .dataframe thead th {\n",
       "        text-align: right;\n",
       "    }\n",
       "</style>\n",
       "<table border=\"1\" class=\"dataframe\">\n",
       "  <thead>\n",
       "    <tr style=\"text-align: right;\">\n",
       "      <th></th>\n",
       "      <th>SibSp</th>\n",
       "      <th>Survived</th>\n",
       "    </tr>\n",
       "  </thead>\n",
       "  <tbody>\n",
       "    <tr>\n",
       "      <th>0</th>\n",
       "      <td>0</td>\n",
       "      <td>0.345395</td>\n",
       "    </tr>\n",
       "    <tr>\n",
       "      <th>1</th>\n",
       "      <td>1</td>\n",
       "      <td>0.535885</td>\n",
       "    </tr>\n",
       "    <tr>\n",
       "      <th>2</th>\n",
       "      <td>2</td>\n",
       "      <td>0.464286</td>\n",
       "    </tr>\n",
       "    <tr>\n",
       "      <th>3</th>\n",
       "      <td>3</td>\n",
       "      <td>0.250000</td>\n",
       "    </tr>\n",
       "    <tr>\n",
       "      <th>4</th>\n",
       "      <td>4</td>\n",
       "      <td>0.166667</td>\n",
       "    </tr>\n",
       "    <tr>\n",
       "      <th>5</th>\n",
       "      <td>5</td>\n",
       "      <td>0.000000</td>\n",
       "    </tr>\n",
       "    <tr>\n",
       "      <th>6</th>\n",
       "      <td>8</td>\n",
       "      <td>0.000000</td>\n",
       "    </tr>\n",
       "  </tbody>\n",
       "</table>\n",
       "</div>"
      ],
      "text/plain": [
       "   SibSp  Survived\n",
       "0      0  0.345395\n",
       "1      1  0.535885\n",
       "2      2  0.464286\n",
       "3      3  0.250000\n",
       "4      4  0.166667\n",
       "5      5  0.000000\n",
       "6      8  0.000000"
      ]
     },
     "execution_count": 11,
     "metadata": {},
     "output_type": "execute_result"
    }
   ],
   "source": [
    "df.groupby([\"SibSp\"], as_index=False)[\"Survived\"].mean()"
   ]
  },
  {
   "cell_type": "code",
   "execution_count": 12,
   "id": "fae4acb9",
   "metadata": {
    "execution": {
     "iopub.execute_input": "2025-05-23T04:29:21.748483Z",
     "iopub.status.busy": "2025-05-23T04:29:21.748173Z",
     "iopub.status.idle": "2025-05-23T04:29:21.761370Z",
     "shell.execute_reply": "2025-05-23T04:29:21.760110Z"
    },
    "papermill": {
     "duration": 0.023807,
     "end_time": "2025-05-23T04:29:21.762964",
     "exception": false,
     "start_time": "2025-05-23T04:29:21.739157",
     "status": "completed"
    },
    "tags": []
   },
   "outputs": [
    {
     "name": "stderr",
     "output_type": "stream",
     "text": [
      "/usr/local/lib/python3.11/dist-packages/pandas/io/formats/format.py:1458: RuntimeWarning: invalid value encountered in greater\n",
      "  has_large_values = (abs_vals > 1e6).any()\n",
      "/usr/local/lib/python3.11/dist-packages/pandas/io/formats/format.py:1459: RuntimeWarning: invalid value encountered in less\n",
      "  has_small_values = ((abs_vals < 10 ** (-self.digits)) & (abs_vals > 0)).any()\n",
      "/usr/local/lib/python3.11/dist-packages/pandas/io/formats/format.py:1459: RuntimeWarning: invalid value encountered in greater\n",
      "  has_small_values = ((abs_vals < 10 ** (-self.digits)) & (abs_vals > 0)).any()\n"
     ]
    },
    {
     "data": {
      "text/html": [
       "<div>\n",
       "<style scoped>\n",
       "    .dataframe tbody tr th:only-of-type {\n",
       "        vertical-align: middle;\n",
       "    }\n",
       "\n",
       "    .dataframe tbody tr th {\n",
       "        vertical-align: top;\n",
       "    }\n",
       "\n",
       "    .dataframe thead th {\n",
       "        text-align: right;\n",
       "    }\n",
       "</style>\n",
       "<table border=\"1\" class=\"dataframe\">\n",
       "  <thead>\n",
       "    <tr style=\"text-align: right;\">\n",
       "      <th></th>\n",
       "      <th>Parch</th>\n",
       "      <th>Survived</th>\n",
       "    </tr>\n",
       "  </thead>\n",
       "  <tbody>\n",
       "    <tr>\n",
       "      <th>0</th>\n",
       "      <td>0</td>\n",
       "      <td>0.343658</td>\n",
       "    </tr>\n",
       "    <tr>\n",
       "      <th>1</th>\n",
       "      <td>1</td>\n",
       "      <td>0.550847</td>\n",
       "    </tr>\n",
       "    <tr>\n",
       "      <th>2</th>\n",
       "      <td>2</td>\n",
       "      <td>0.500000</td>\n",
       "    </tr>\n",
       "    <tr>\n",
       "      <th>3</th>\n",
       "      <td>3</td>\n",
       "      <td>0.600000</td>\n",
       "    </tr>\n",
       "    <tr>\n",
       "      <th>4</th>\n",
       "      <td>4</td>\n",
       "      <td>0.000000</td>\n",
       "    </tr>\n",
       "    <tr>\n",
       "      <th>5</th>\n",
       "      <td>5</td>\n",
       "      <td>0.200000</td>\n",
       "    </tr>\n",
       "    <tr>\n",
       "      <th>6</th>\n",
       "      <td>6</td>\n",
       "      <td>0.000000</td>\n",
       "    </tr>\n",
       "    <tr>\n",
       "      <th>7</th>\n",
       "      <td>9</td>\n",
       "      <td>NaN</td>\n",
       "    </tr>\n",
       "  </tbody>\n",
       "</table>\n",
       "</div>"
      ],
      "text/plain": [
       "   Parch  Survived\n",
       "0      0  0.343658\n",
       "1      1  0.550847\n",
       "2      2  0.500000\n",
       "3      3  0.600000\n",
       "4      4  0.000000\n",
       "5      5  0.200000\n",
       "6      6  0.000000\n",
       "7      9       NaN"
      ]
     },
     "execution_count": 12,
     "metadata": {},
     "output_type": "execute_result"
    }
   ],
   "source": [
    "df.groupby([\"Parch\"], as_index=False)[\"Survived\"].mean()"
   ]
  },
  {
   "cell_type": "markdown",
   "id": "88796b4f",
   "metadata": {
    "papermill": {
     "duration": 0.008018,
     "end_time": "2025-05-23T04:29:21.778904",
     "exception": false,
     "start_time": "2025-05-23T04:29:21.770886",
     "status": "completed"
    },
    "tags": []
   },
   "source": [
    "**Data preprocessing**"
   ]
  },
  {
   "cell_type": "code",
   "execution_count": 13,
   "id": "34f8b717",
   "metadata": {
    "execution": {
     "iopub.execute_input": "2025-05-23T04:29:21.795637Z",
     "iopub.status.busy": "2025-05-23T04:29:21.795306Z",
     "iopub.status.idle": "2025-05-23T04:29:21.801036Z",
     "shell.execute_reply": "2025-05-23T04:29:21.799921Z"
    },
    "papermill": {
     "duration": 0.016178,
     "end_time": "2025-05-23T04:29:21.802734",
     "exception": false,
     "start_time": "2025-05-23T04:29:21.786556",
     "status": "completed"
    },
    "tags": []
   },
   "outputs": [],
   "source": [
    "df[\"Family_Size\"]=df[\"SibSp\"]+df[\"Parch\"]+1\n"
   ]
  },
  {
   "cell_type": "code",
   "execution_count": 14,
   "id": "7020a757",
   "metadata": {
    "execution": {
     "iopub.execute_input": "2025-05-23T04:29:21.819617Z",
     "iopub.status.busy": "2025-05-23T04:29:21.819269Z",
     "iopub.status.idle": "2025-05-23T04:29:21.830883Z",
     "shell.execute_reply": "2025-05-23T04:29:21.830041Z"
    },
    "papermill": {
     "duration": 0.022049,
     "end_time": "2025-05-23T04:29:21.832493",
     "exception": false,
     "start_time": "2025-05-23T04:29:21.810444",
     "status": "completed"
    },
    "tags": []
   },
   "outputs": [
    {
     "data": {
      "text/html": [
       "<div>\n",
       "<style scoped>\n",
       "    .dataframe tbody tr th:only-of-type {\n",
       "        vertical-align: middle;\n",
       "    }\n",
       "\n",
       "    .dataframe tbody tr th {\n",
       "        vertical-align: top;\n",
       "    }\n",
       "\n",
       "    .dataframe thead th {\n",
       "        text-align: right;\n",
       "    }\n",
       "</style>\n",
       "<table border=\"1\" class=\"dataframe\">\n",
       "  <thead>\n",
       "    <tr style=\"text-align: right;\">\n",
       "      <th></th>\n",
       "      <th>Family_Size</th>\n",
       "      <th>Survived</th>\n",
       "    </tr>\n",
       "  </thead>\n",
       "  <tbody>\n",
       "    <tr>\n",
       "      <th>0</th>\n",
       "      <td>1</td>\n",
       "      <td>0.303538</td>\n",
       "    </tr>\n",
       "    <tr>\n",
       "      <th>1</th>\n",
       "      <td>2</td>\n",
       "      <td>0.552795</td>\n",
       "    </tr>\n",
       "    <tr>\n",
       "      <th>2</th>\n",
       "      <td>3</td>\n",
       "      <td>0.578431</td>\n",
       "    </tr>\n",
       "    <tr>\n",
       "      <th>3</th>\n",
       "      <td>4</td>\n",
       "      <td>0.724138</td>\n",
       "    </tr>\n",
       "    <tr>\n",
       "      <th>4</th>\n",
       "      <td>5</td>\n",
       "      <td>0.200000</td>\n",
       "    </tr>\n",
       "    <tr>\n",
       "      <th>5</th>\n",
       "      <td>6</td>\n",
       "      <td>0.136364</td>\n",
       "    </tr>\n",
       "    <tr>\n",
       "      <th>6</th>\n",
       "      <td>7</td>\n",
       "      <td>0.333333</td>\n",
       "    </tr>\n",
       "    <tr>\n",
       "      <th>7</th>\n",
       "      <td>8</td>\n",
       "      <td>0.000000</td>\n",
       "    </tr>\n",
       "    <tr>\n",
       "      <th>8</th>\n",
       "      <td>11</td>\n",
       "      <td>0.000000</td>\n",
       "    </tr>\n",
       "  </tbody>\n",
       "</table>\n",
       "</div>"
      ],
      "text/plain": [
       "   Family_Size  Survived\n",
       "0            1  0.303538\n",
       "1            2  0.552795\n",
       "2            3  0.578431\n",
       "3            4  0.724138\n",
       "4            5  0.200000\n",
       "5            6  0.136364\n",
       "6            7  0.333333\n",
       "7            8  0.000000\n",
       "8           11  0.000000"
      ]
     },
     "execution_count": 14,
     "metadata": {},
     "output_type": "execute_result"
    }
   ],
   "source": [
    "df.groupby([\"Family_Size\"],as_index=False)[\"Survived\"].mean()"
   ]
  },
  {
   "cell_type": "code",
   "execution_count": 15,
   "id": "03db5775",
   "metadata": {
    "execution": {
     "iopub.execute_input": "2025-05-23T04:29:21.850422Z",
     "iopub.status.busy": "2025-05-23T04:29:21.850078Z",
     "iopub.status.idle": "2025-05-23T04:29:21.857255Z",
     "shell.execute_reply": "2025-05-23T04:29:21.856187Z"
    },
    "papermill": {
     "duration": 0.017799,
     "end_time": "2025-05-23T04:29:21.858841",
     "exception": false,
     "start_time": "2025-05-23T04:29:21.841042",
     "status": "completed"
    },
    "tags": []
   },
   "outputs": [
    {
     "name": "stdout",
     "output_type": "stream",
     "text": [
      "Index(['PassengerId', 'Survived', 'Pclass', 'Age', 'SibSp', 'Parch', 'Fare',\n",
      "       'Family_Size'],\n",
      "      dtype='object')\n"
     ]
    }
   ],
   "source": [
    "numerical_cols = df.select_dtypes(include=['int64', 'float64'])\n",
    "print(numerical_cols.columns)\n"
   ]
  },
  {
   "cell_type": "code",
   "execution_count": 16,
   "id": "ba108a17",
   "metadata": {
    "execution": {
     "iopub.execute_input": "2025-05-23T04:29:21.875904Z",
     "iopub.status.busy": "2025-05-23T04:29:21.875566Z",
     "iopub.status.idle": "2025-05-23T04:29:21.882806Z",
     "shell.execute_reply": "2025-05-23T04:29:21.881748Z"
    },
    "papermill": {
     "duration": 0.017466,
     "end_time": "2025-05-23T04:29:21.884296",
     "exception": false,
     "start_time": "2025-05-23T04:29:21.866830",
     "status": "completed"
    },
    "tags": []
   },
   "outputs": [
    {
     "name": "stdout",
     "output_type": "stream",
     "text": [
      "Index(['Name', 'Sex', 'Ticket', 'Cabin', 'Embarked'], dtype='object')\n"
     ]
    }
   ],
   "source": [
    "categorical_cols = df.select_dtypes(include=['object', 'category'])\n",
    "print(categorical_cols.columns)\n"
   ]
  },
  {
   "cell_type": "code",
   "execution_count": 17,
   "id": "ae72cbbd",
   "metadata": {
    "execution": {
     "iopub.execute_input": "2025-05-23T04:29:21.901442Z",
     "iopub.status.busy": "2025-05-23T04:29:21.901145Z",
     "iopub.status.idle": "2025-05-23T04:29:21.907623Z",
     "shell.execute_reply": "2025-05-23T04:29:21.906554Z"
    },
    "papermill": {
     "duration": 0.017104,
     "end_time": "2025-05-23T04:29:21.909477",
     "exception": false,
     "start_time": "2025-05-23T04:29:21.892373",
     "status": "completed"
    },
    "tags": []
   },
   "outputs": [],
   "source": [
    "df = df.reset_index(drop=True)\n"
   ]
  },
  {
   "cell_type": "code",
   "execution_count": 18,
   "id": "d6c1c19c",
   "metadata": {
    "execution": {
     "iopub.execute_input": "2025-05-23T04:29:21.996070Z",
     "iopub.status.busy": "2025-05-23T04:29:21.995720Z",
     "iopub.status.idle": "2025-05-23T04:29:22.708626Z",
     "shell.execute_reply": "2025-05-23T04:29:22.707211Z"
    },
    "papermill": {
     "duration": 0.724056,
     "end_time": "2025-05-23T04:29:22.710643",
     "exception": false,
     "start_time": "2025-05-23T04:29:21.986587",
     "status": "completed"
    },
    "tags": []
   },
   "outputs": [
    {
     "name": "stderr",
     "output_type": "stream",
     "text": [
      "/usr/local/lib/python3.11/dist-packages/seaborn/_oldcore.py:1119: FutureWarning: use_inf_as_na option is deprecated and will be removed in a future version. Convert inf values to NaN before operating instead.\n",
      "  with pd.option_context('mode.use_inf_as_na', True):\n",
      "/usr/local/lib/python3.11/dist-packages/seaborn/_oldcore.py:1075: FutureWarning: When grouping with a length-1 list-like, you will need to pass a length-1 tuple to get_group in a future version of pandas. Pass `(name,)` instead of `name` to silence this warning.\n",
      "  data_subset = grouped_data.get_group(pd_key)\n",
      "/usr/local/lib/python3.11/dist-packages/seaborn/_oldcore.py:1075: FutureWarning: When grouping with a length-1 list-like, you will need to pass a length-1 tuple to get_group in a future version of pandas. Pass `(name,)` instead of `name` to silence this warning.\n",
      "  data_subset = grouped_data.get_group(pd_key)\n",
      "/usr/local/lib/python3.11/dist-packages/seaborn/_oldcore.py:1075: FutureWarning: When grouping with a length-1 list-like, you will need to pass a length-1 tuple to get_group in a future version of pandas. Pass `(name,)` instead of `name` to silence this warning.\n",
      "  data_subset = grouped_data.get_group(pd_key)\n",
      "/usr/local/lib/python3.11/dist-packages/seaborn/_oldcore.py:1075: FutureWarning: When grouping with a length-1 list-like, you will need to pass a length-1 tuple to get_group in a future version of pandas. Pass `(name,)` instead of `name` to silence this warning.\n",
      "  data_subset = grouped_data.get_group(pd_key)\n",
      "/usr/local/lib/python3.11/dist-packages/seaborn/axisgrid.py:118: UserWarning: The figure layout has changed to tight\n",
      "  self._figure.tight_layout(*args, **kwargs)\n"
     ]
    },
    {
     "data": {
      "text/plain": [
       "<seaborn.axisgrid.FacetGrid at 0x7820c046b750>"
      ]
     },
     "execution_count": 18,
     "metadata": {},
     "output_type": "execute_result"
    },
    {
     "data": {
      "image/png": "[encoded data removed]",
      "text/plain": [
       "<Figure size 1000x500 with 2 Axes>"
      ]
     },
     "metadata": {},
     "output_type": "display_data"
    }
   ],
   "source": [
    "sns.displot(df,x=\"Age\", col=\"Survived\")"
   ]
  },
  {
   "cell_type": "code",
   "execution_count": 19,
   "id": "d3ae83cf",
   "metadata": {
    "execution": {
     "iopub.execute_input": "2025-05-23T04:29:22.729457Z",
     "iopub.status.busy": "2025-05-23T04:29:22.729130Z",
     "iopub.status.idle": "2025-05-23T04:29:22.737978Z",
     "shell.execute_reply": "2025-05-23T04:29:22.737052Z"
    },
    "papermill": {
     "duration": 0.020371,
     "end_time": "2025-05-23T04:29:22.739848",
     "exception": false,
     "start_time": "2025-05-23T04:29:22.719477",
     "status": "completed"
    },
    "tags": []
   },
   "outputs": [
    {
     "data": {
      "text/plain": [
       "PassengerId       0\n",
       "Survived        418\n",
       "Pclass            0\n",
       "Name              0\n",
       "Sex               0\n",
       "Age             263\n",
       "SibSp             0\n",
       "Parch             0\n",
       "Ticket            0\n",
       "Fare              1\n",
       "Cabin          1014\n",
       "Embarked          2\n",
       "Family_Size       0\n",
       "dtype: int64"
      ]
     },
     "execution_count": 19,
     "metadata": {},
     "output_type": "execute_result"
    }
   ],
   "source": [
    "df.isnull().sum()"
   ]
  },
  {
   "cell_type": "code",
   "execution_count": 20,
   "id": "cd410249",
   "metadata": {
    "execution": {
     "iopub.execute_input": "2025-05-23T04:29:22.760222Z",
     "iopub.status.busy": "2025-05-23T04:29:22.759226Z",
     "iopub.status.idle": "2025-05-23T04:29:22.766130Z",
     "shell.execute_reply": "2025-05-23T04:29:22.765156Z"
    },
    "papermill": {
     "duration": 0.018376,
     "end_time": "2025-05-23T04:29:22.767640",
     "exception": false,
     "start_time": "2025-05-23T04:29:22.749264",
     "status": "completed"
    },
    "tags": []
   },
   "outputs": [],
   "source": [
    "df=df.drop([\"Cabin\"],axis=1)"
   ]
  },
  {
   "cell_type": "code",
   "execution_count": 21,
   "id": "50404aab",
   "metadata": {
    "execution": {
     "iopub.execute_input": "2025-05-23T04:29:22.787306Z",
     "iopub.status.busy": "2025-05-23T04:29:22.786992Z",
     "iopub.status.idle": "2025-05-23T04:29:22.793162Z",
     "shell.execute_reply": "2025-05-23T04:29:22.792305Z"
    },
    "papermill": {
     "duration": 0.018095,
     "end_time": "2025-05-23T04:29:22.794660",
     "exception": false,
     "start_time": "2025-05-23T04:29:22.776565",
     "status": "completed"
    },
    "tags": []
   },
   "outputs": [],
   "source": [
    "df[\"Age\"]=df[\"Age\"].fillna(df[\"Age\"].mean())"
   ]
  },
  {
   "cell_type": "code",
   "execution_count": 22,
   "id": "6a777507",
   "metadata": {
    "execution": {
     "iopub.execute_input": "2025-05-23T04:29:22.813564Z",
     "iopub.status.busy": "2025-05-23T04:29:22.813207Z",
     "iopub.status.idle": "2025-05-23T04:29:22.820014Z",
     "shell.execute_reply": "2025-05-23T04:29:22.818842Z"
    },
    "papermill": {
     "duration": 0.018398,
     "end_time": "2025-05-23T04:29:22.821803",
     "exception": false,
     "start_time": "2025-05-23T04:29:22.803405",
     "status": "completed"
    },
    "tags": []
   },
   "outputs": [],
   "source": [
    "df[\"Embarked\"]=df[\"Embarked\"].fillna(df[\"Embarked\"].mode()[0])"
   ]
  },
  {
   "cell_type": "code",
   "execution_count": 23,
   "id": "6f41fe93",
   "metadata": {
    "execution": {
     "iopub.execute_input": "2025-05-23T04:29:22.840916Z",
     "iopub.status.busy": "2025-05-23T04:29:22.840512Z",
     "iopub.status.idle": "2025-05-23T04:29:22.848634Z",
     "shell.execute_reply": "2025-05-23T04:29:22.847661Z"
    },
    "papermill": {
     "duration": 0.019586,
     "end_time": "2025-05-23T04:29:22.850175",
     "exception": false,
     "start_time": "2025-05-23T04:29:22.830589",
     "status": "completed"
    },
    "tags": []
   },
   "outputs": [
    {
     "data": {
      "text/plain": [
       "PassengerId      0\n",
       "Survived       418\n",
       "Pclass           0\n",
       "Name             0\n",
       "Sex              0\n",
       "Age              0\n",
       "SibSp            0\n",
       "Parch            0\n",
       "Ticket           0\n",
       "Fare             1\n",
       "Embarked         0\n",
       "Family_Size      0\n",
       "dtype: int64"
      ]
     },
     "execution_count": 23,
     "metadata": {},
     "output_type": "execute_result"
    }
   ],
   "source": [
    "df.isnull().sum()"
   ]
  },
  {
   "cell_type": "code",
   "execution_count": 24,
   "id": "c64ebc03",
   "metadata": {
    "execution": {
     "iopub.execute_input": "2025-05-23T04:29:22.869349Z",
     "iopub.status.busy": "2025-05-23T04:29:22.869005Z",
     "iopub.status.idle": "2025-05-23T04:29:23.186014Z",
     "shell.execute_reply": "2025-05-23T04:29:23.185063Z"
    },
    "papermill": {
     "duration": 0.328758,
     "end_time": "2025-05-23T04:29:23.187908",
     "exception": false,
     "start_time": "2025-05-23T04:29:22.859150",
     "status": "completed"
    },
    "tags": []
   },
   "outputs": [
    {
     "name": "stderr",
     "output_type": "stream",
     "text": [
      "/usr/local/lib/python3.11/dist-packages/seaborn/_oldcore.py:1119: FutureWarning: use_inf_as_na option is deprecated and will be removed in a future version. Convert inf values to NaN before operating instead.\n",
      "  with pd.option_context('mode.use_inf_as_na', True):\n",
      "/usr/local/lib/python3.11/dist-packages/seaborn/axisgrid.py:118: UserWarning: The figure layout has changed to tight\n",
      "  self._figure.tight_layout(*args, **kwargs)\n"
     ]
    },
    {
     "data": {
      "text/plain": [
       "<seaborn.axisgrid.FacetGrid at 0x7820e2e581d0>"
      ]
     },
     "execution_count": 24,
     "metadata": {},
     "output_type": "execute_result"
    },
    {
     "data": {
      "image/png": "[encoded data removed]",
      "text/plain": [
       "<Figure size 500x500 with 1 Axes>"
      ]
     },
     "metadata": {},
     "output_type": "display_data"
    }
   ],
   "source": [
    "sns.displot(df[\"Age\"])"
   ]
  },
  {
   "cell_type": "code",
   "execution_count": 25,
   "id": "6ee30948",
   "metadata": {
    "execution": {
     "iopub.execute_input": "2025-05-23T04:29:23.208433Z",
     "iopub.status.busy": "2025-05-23T04:29:23.208073Z",
     "iopub.status.idle": "2025-05-23T04:29:23.618912Z",
     "shell.execute_reply": "2025-05-23T04:29:23.618135Z"
    },
    "papermill": {
     "duration": 0.423254,
     "end_time": "2025-05-23T04:29:23.620618",
     "exception": false,
     "start_time": "2025-05-23T04:29:23.197364",
     "status": "completed"
    },
    "tags": []
   },
   "outputs": [
    {
     "name": "stderr",
     "output_type": "stream",
     "text": [
      "/usr/local/lib/python3.11/dist-packages/seaborn/_oldcore.py:1119: FutureWarning: use_inf_as_na option is deprecated and will be removed in a future version. Convert inf values to NaN before operating instead.\n",
      "  with pd.option_context('mode.use_inf_as_na', True):\n",
      "/usr/local/lib/python3.11/dist-packages/seaborn/axisgrid.py:118: UserWarning: The figure layout has changed to tight\n",
      "  self._figure.tight_layout(*args, **kwargs)\n"
     ]
    },
    {
     "data": {
      "text/plain": [
       "<seaborn.axisgrid.FacetGrid at 0x7820c024acd0>"
      ]
     },
     "execution_count": 25,
     "metadata": {},
     "output_type": "execute_result"
    },
    {
     "data": {
      "image/png": "[encoded data removed]",
      "text/plain": [
       "<Figure size 500x500 with 1 Axes>"
      ]
     },
     "metadata": {},
     "output_type": "display_data"
    }
   ],
   "source": [
    "sns.displot(df[\"Fare\"])"
   ]
  },
  {
   "cell_type": "code",
   "execution_count": 26,
   "id": "338ae293",
   "metadata": {
    "execution": {
     "iopub.execute_input": "2025-05-23T04:29:23.641585Z",
     "iopub.status.busy": "2025-05-23T04:29:23.641231Z",
     "iopub.status.idle": "2025-05-23T04:29:23.649747Z",
     "shell.execute_reply": "2025-05-23T04:29:23.648727Z"
    },
    "papermill": {
     "duration": 0.02097,
     "end_time": "2025-05-23T04:29:23.651443",
     "exception": false,
     "start_time": "2025-05-23T04:29:23.630473",
     "status": "completed"
    },
    "tags": []
   },
   "outputs": [
    {
     "name": "stderr",
     "output_type": "stream",
     "text": [
      "/usr/local/lib/python3.11/dist-packages/pandas/core/arraylike.py:399: RuntimeWarning: invalid value encountered in log\n",
      "  result = getattr(ufunc, method)(*inputs, **kwargs)\n"
     ]
    }
   ],
   "source": [
    "df[\"Fare\"]=np.log(df[\"Fare\"]+1)"
   ]
  },
  {
   "cell_type": "code",
   "execution_count": 27,
   "id": "cd82b13f",
   "metadata": {
    "execution": {
     "iopub.execute_input": "2025-05-23T04:29:23.673501Z",
     "iopub.status.busy": "2025-05-23T04:29:23.672213Z",
     "iopub.status.idle": "2025-05-23T04:29:23.972983Z",
     "shell.execute_reply": "2025-05-23T04:29:23.971820Z"
    },
    "papermill": {
     "duration": 0.313102,
     "end_time": "2025-05-23T04:29:23.974603",
     "exception": false,
     "start_time": "2025-05-23T04:29:23.661501",
     "status": "completed"
    },
    "tags": []
   },
   "outputs": [
    {
     "name": "stderr",
     "output_type": "stream",
     "text": [
      "/tmp/ipykernel_13/206252685.py:1: UserWarning: \n",
      "\n",
      "`distplot` is a deprecated function and will be removed in seaborn v0.14.0.\n",
      "\n",
      "Please adapt your code to use either `displot` (a figure-level function with\n",
      "similar flexibility) or `histplot` (an axes-level function for histograms).\n",
      "\n",
      "For a guide to updating your code to use the new functions, please see\n",
      "https://gist.github.com/mwaskom/de44147ed2974457ad6372750bbe5751\n",
      "\n",
      "  sns.distplot(train_data[\"Fare\"])\n",
      "/usr/local/lib/python3.11/dist-packages/seaborn/_oldcore.py:1119: FutureWarning: use_inf_as_na option is deprecated and will be removed in a future version. Convert inf values to NaN before operating instead.\n",
      "  with pd.option_context('mode.use_inf_as_na', True):\n"
     ]
    },
    {
     "data": {
      "text/plain": [
       "<Axes: xlabel='Fare', ylabel='Density'>"
      ]
     },
     "execution_count": 27,
     "metadata": {},
     "output_type": "execute_result"
    },
    {
     "data": {
      "image/png": "[encoded data removed]",
      "text/plain": [
       "<Figure size 640x480 with 1 Axes>"
      ]
     },
     "metadata": {},
     "output_type": "display_data"
    }
   ],
   "source": [
    "sns.distplot(train_data[\"Fare\"])"
   ]
  },
  {
   "cell_type": "code",
   "execution_count": 28,
   "id": "df93e8bb",
   "metadata": {
    "execution": {
     "iopub.execute_input": "2025-05-23T04:29:23.997542Z",
     "iopub.status.busy": "2025-05-23T04:29:23.996918Z",
     "iopub.status.idle": "2025-05-23T04:29:24.004379Z",
     "shell.execute_reply": "2025-05-23T04:29:24.003508Z"
    },
    "papermill": {
     "duration": 0.020806,
     "end_time": "2025-05-23T04:29:24.005898",
     "exception": false,
     "start_time": "2025-05-23T04:29:23.985092",
     "status": "completed"
    },
    "tags": []
   },
   "outputs": [
    {
     "data": {
      "text/plain": [
       "PassengerId      int64\n",
       "Survived         int64\n",
       "Pclass           int64\n",
       "Name            object\n",
       "Sex             object\n",
       "Age            float64\n",
       "SibSp            int64\n",
       "Parch            int64\n",
       "Ticket          object\n",
       "Fare           float64\n",
       "Cabin           object\n",
       "Embarked        object\n",
       "dtype: object"
      ]
     },
     "execution_count": 28,
     "metadata": {},
     "output_type": "execute_result"
    }
   ],
   "source": [
    "train_data.dtypes"
   ]
  },
  {
   "cell_type": "code",
   "execution_count": 29,
   "id": "93a1995d",
   "metadata": {
    "execution": {
     "iopub.execute_input": "2025-05-23T04:29:24.027852Z",
     "iopub.status.busy": "2025-05-23T04:29:24.027495Z",
     "iopub.status.idle": "2025-05-23T04:29:24.036826Z",
     "shell.execute_reply": "2025-05-23T04:29:24.035989Z"
    },
    "papermill": {
     "duration": 0.022104,
     "end_time": "2025-05-23T04:29:24.038326",
     "exception": false,
     "start_time": "2025-05-23T04:29:24.016222",
     "status": "completed"
    },
    "tags": []
   },
   "outputs": [],
   "source": [
    "\n",
    "le=LabelEncoder()\n",
    "df[\"Gender\"] = le.fit_transform(df[\"Sex\"])\n",
    "df[\"Ticket\"] = le.fit_transform(df[\"Ticket\"])\n",
    "df[\"Embarked\"] = le.fit_transform(df[\"Embarked\"])"
   ]
  },
  {
   "cell_type": "code",
   "execution_count": 30,
   "id": "f41675e4",
   "metadata": {
    "execution": {
     "iopub.execute_input": "2025-05-23T04:29:24.060680Z",
     "iopub.status.busy": "2025-05-23T04:29:24.060333Z",
     "iopub.status.idle": "2025-05-23T04:29:24.067736Z",
     "shell.execute_reply": "2025-05-23T04:29:24.066853Z"
    },
    "papermill": {
     "duration": 0.020124,
     "end_time": "2025-05-23T04:29:24.069287",
     "exception": false,
     "start_time": "2025-05-23T04:29:24.049163",
     "status": "completed"
    },
    "tags": []
   },
   "outputs": [
    {
     "data": {
      "text/plain": [
       "PassengerId      int64\n",
       "Survived       float64\n",
       "Pclass           int64\n",
       "Name            object\n",
       "Sex             object\n",
       "Age            float64\n",
       "SibSp            int64\n",
       "Parch            int64\n",
       "Ticket           int64\n",
       "Fare           float64\n",
       "Embarked         int64\n",
       "Family_Size      int64\n",
       "Gender           int64\n",
       "dtype: object"
      ]
     },
     "execution_count": 30,
     "metadata": {},
     "output_type": "execute_result"
    }
   ],
   "source": [
    "df.dtypes"
   ]
  },
  {
   "cell_type": "code",
   "execution_count": 31,
   "id": "28fd1410",
   "metadata": {
    "execution": {
     "iopub.execute_input": "2025-05-23T04:29:24.091464Z",
     "iopub.status.busy": "2025-05-23T04:29:24.091167Z",
     "iopub.status.idle": "2025-05-23T04:29:24.097452Z",
     "shell.execute_reply": "2025-05-23T04:29:24.096430Z"
    },
    "papermill": {
     "duration": 0.019366,
     "end_time": "2025-05-23T04:29:24.099248",
     "exception": false,
     "start_time": "2025-05-23T04:29:24.079882",
     "status": "completed"
    },
    "tags": []
   },
   "outputs": [],
   "source": [
    "df=df.drop([\"Name\",\"Sex\"],axis=1)"
   ]
  },
  {
   "cell_type": "code",
   "execution_count": 32,
   "id": "45634c59",
   "metadata": {
    "execution": {
     "iopub.execute_input": "2025-05-23T04:29:24.124431Z",
     "iopub.status.busy": "2025-05-23T04:29:24.124142Z",
     "iopub.status.idle": "2025-05-23T04:29:24.131390Z",
     "shell.execute_reply": "2025-05-23T04:29:24.130498Z"
    },
    "papermill": {
     "duration": 0.02079,
     "end_time": "2025-05-23T04:29:24.133186",
     "exception": false,
     "start_time": "2025-05-23T04:29:24.112396",
     "status": "completed"
    },
    "tags": []
   },
   "outputs": [],
   "source": [
    "# Number of rows in train_data\n",
    "train_rows = train_data.shape[0]\n",
    "\n",
    "# Split df back\n",
    "train = df.iloc[:train_rows].copy()\n",
    "test = df.iloc[train_rows:].copy()\n"
   ]
  },
  {
   "cell_type": "code",
   "execution_count": 33,
   "id": "e7326dff",
   "metadata": {
    "execution": {
     "iopub.execute_input": "2025-05-23T04:29:24.156090Z",
     "iopub.status.busy": "2025-05-23T04:29:24.155750Z",
     "iopub.status.idle": "2025-05-23T04:29:24.805037Z",
     "shell.execute_reply": "2025-05-23T04:29:24.803797Z"
    },
    "papermill": {
     "duration": 0.663846,
     "end_time": "2025-05-23T04:29:24.807740",
     "exception": false,
     "start_time": "2025-05-23T04:29:24.143894",
     "status": "completed"
    },
    "tags": []
   },
   "outputs": [
    {
     "data": {
      "text/plain": [
       "<Axes: >"
      ]
     },
     "execution_count": 33,
     "metadata": {},
     "output_type": "execute_result"
    },
    {
     "data": {
      "image/png": "[encoded data removed]",
      "text/plain": [
       "<Figure size 1500x900 with 2 Axes>"
      ]
     },
     "metadata": {},
     "output_type": "display_data"
    }
   ],
   "source": [
    "corr=train.corr()\n",
    "plt.figure(figsize=(15,9))\n",
    "sns.heatmap(corr,annot=True,cmap=\"coolwarm\")"
   ]
  },
  {
   "cell_type": "markdown",
   "id": "ea72a0c1",
   "metadata": {
    "papermill": {
     "duration": 0.013466,
     "end_time": "2025-05-23T04:29:24.836492",
     "exception": false,
     "start_time": "2025-05-23T04:29:24.823026",
     "status": "completed"
    },
    "tags": []
   },
   "source": [
    "**MODEL TRAINING**"
   ]
  },
  {
   "cell_type": "code",
   "execution_count": 34,
   "id": "a7d24fa7",
   "metadata": {
    "execution": {
     "iopub.execute_input": "2025-05-23T04:29:24.864574Z",
     "iopub.status.busy": "2025-05-23T04:29:24.864226Z",
     "iopub.status.idle": "2025-05-23T04:29:24.871035Z",
     "shell.execute_reply": "2025-05-23T04:29:24.869754Z"
    },
    "papermill": {
     "duration": 0.022991,
     "end_time": "2025-05-23T04:29:24.872737",
     "exception": false,
     "start_time": "2025-05-23T04:29:24.849746",
     "status": "completed"
    },
    "tags": []
   },
   "outputs": [],
   "source": [
    "x=train.drop([\"PassengerId\",\"Survived\"],axis=1)\n",
    "y=train[\"Survived\"]"
   ]
  },
  {
   "cell_type": "code",
   "execution_count": 35,
   "id": "353db16e",
   "metadata": {
    "execution": {
     "iopub.execute_input": "2025-05-23T04:29:24.899445Z",
     "iopub.status.busy": "2025-05-23T04:29:24.899087Z",
     "iopub.status.idle": "2025-05-23T04:29:24.911667Z",
     "shell.execute_reply": "2025-05-23T04:29:24.910834Z"
    },
    "papermill": {
     "duration": 0.027655,
     "end_time": "2025-05-23T04:29:24.913249",
     "exception": false,
     "start_time": "2025-05-23T04:29:24.885594",
     "status": "completed"
    },
    "tags": []
   },
   "outputs": [
    {
     "data": {
      "text/html": [
       "<div>\n",
       "<style scoped>\n",
       "    .dataframe tbody tr th:only-of-type {\n",
       "        vertical-align: middle;\n",
       "    }\n",
       "\n",
       "    .dataframe tbody tr th {\n",
       "        vertical-align: top;\n",
       "    }\n",
       "\n",
       "    .dataframe thead th {\n",
       "        text-align: right;\n",
       "    }\n",
       "</style>\n",
       "<table border=\"1\" class=\"dataframe\">\n",
       "  <thead>\n",
       "    <tr style=\"text-align: right;\">\n",
       "      <th></th>\n",
       "      <th>Pclass</th>\n",
       "      <th>Age</th>\n",
       "      <th>SibSp</th>\n",
       "      <th>Parch</th>\n",
       "      <th>Ticket</th>\n",
       "      <th>Fare</th>\n",
       "      <th>Embarked</th>\n",
       "      <th>Family_Size</th>\n",
       "      <th>Gender</th>\n",
       "    </tr>\n",
       "  </thead>\n",
       "  <tbody>\n",
       "    <tr>\n",
       "      <th>0</th>\n",
       "      <td>3</td>\n",
       "      <td>22.0</td>\n",
       "      <td>1</td>\n",
       "      <td>0</td>\n",
       "      <td>720</td>\n",
       "      <td>2.110213</td>\n",
       "      <td>2</td>\n",
       "      <td>2</td>\n",
       "      <td>1</td>\n",
       "    </tr>\n",
       "    <tr>\n",
       "      <th>1</th>\n",
       "      <td>1</td>\n",
       "      <td>38.0</td>\n",
       "      <td>1</td>\n",
       "      <td>0</td>\n",
       "      <td>816</td>\n",
       "      <td>4.280593</td>\n",
       "      <td>0</td>\n",
       "      <td>2</td>\n",
       "      <td>0</td>\n",
       "    </tr>\n",
       "    <tr>\n",
       "      <th>2</th>\n",
       "      <td>3</td>\n",
       "      <td>26.0</td>\n",
       "      <td>0</td>\n",
       "      <td>0</td>\n",
       "      <td>914</td>\n",
       "      <td>2.188856</td>\n",
       "      <td>2</td>\n",
       "      <td>1</td>\n",
       "      <td>0</td>\n",
       "    </tr>\n",
       "    <tr>\n",
       "      <th>3</th>\n",
       "      <td>1</td>\n",
       "      <td>35.0</td>\n",
       "      <td>1</td>\n",
       "      <td>0</td>\n",
       "      <td>65</td>\n",
       "      <td>3.990834</td>\n",
       "      <td>2</td>\n",
       "      <td>2</td>\n",
       "      <td>0</td>\n",
       "    </tr>\n",
       "    <tr>\n",
       "      <th>4</th>\n",
       "      <td>3</td>\n",
       "      <td>35.0</td>\n",
       "      <td>0</td>\n",
       "      <td>0</td>\n",
       "      <td>649</td>\n",
       "      <td>2.202765</td>\n",
       "      <td>2</td>\n",
       "      <td>1</td>\n",
       "      <td>1</td>\n",
       "    </tr>\n",
       "  </tbody>\n",
       "</table>\n",
       "</div>"
      ],
      "text/plain": [
       "   Pclass   Age  SibSp  Parch  Ticket      Fare  Embarked  Family_Size  Gender\n",
       "0       3  22.0      1      0     720  2.110213         2            2       1\n",
       "1       1  38.0      1      0     816  4.280593         0            2       0\n",
       "2       3  26.0      0      0     914  2.188856         2            1       0\n",
       "3       1  35.0      1      0      65  3.990834         2            2       0\n",
       "4       3  35.0      0      0     649  2.202765         2            1       1"
      ]
     },
     "execution_count": 35,
     "metadata": {},
     "output_type": "execute_result"
    }
   ],
   "source": [
    "x.head()"
   ]
  },
  {
   "cell_type": "code",
   "execution_count": 36,
   "id": "53505f0e",
   "metadata": {
    "execution": {
     "iopub.execute_input": "2025-05-23T04:29:24.940961Z",
     "iopub.status.busy": "2025-05-23T04:29:24.940113Z",
     "iopub.status.idle": "2025-05-23T04:29:24.945283Z",
     "shell.execute_reply": "2025-05-23T04:29:24.944515Z"
    },
    "papermill": {
     "duration": 0.020413,
     "end_time": "2025-05-23T04:29:24.946864",
     "exception": false,
     "start_time": "2025-05-23T04:29:24.926451",
     "status": "completed"
    },
    "tags": []
   },
   "outputs": [],
   "source": [
    "def multimodal(model,x,y):\n",
    "    x_train,x_test,y_train,y_test=train_test_split(x,y,test_size=0.43,random_state=37)\n",
    "    model.fit(x_train,y_train)\n",
    "    print(\"ACCURACY\",model.score(x_test,y_test))\n",
    "            "
   ]
  },
  {
   "cell_type": "code",
   "execution_count": 37,
   "id": "39285cbb",
   "metadata": {
    "execution": {
     "iopub.execute_input": "2025-05-23T04:29:24.974344Z",
     "iopub.status.busy": "2025-05-23T04:29:24.974030Z",
     "iopub.status.idle": "2025-05-23T04:29:24.979510Z",
     "shell.execute_reply": "2025-05-23T04:29:24.978510Z"
    },
    "papermill": {
     "duration": 0.021199,
     "end_time": "2025-05-23T04:29:24.981094",
     "exception": false,
     "start_time": "2025-05-23T04:29:24.959895",
     "status": "completed"
    },
    "tags": []
   },
   "outputs": [],
   "source": [
    "from sklearn.model_selection import train_test_split\n",
    "\n",
    "def multimodal_regressor(model, x, y):\n",
    "    x_train, x_test, y_train, y_test = train_test_split(x, y, test_size=0.43, random_state=37)\n",
    "    model.fit(x_train, y_train)\n",
    "    print(\"R2 Score:\", model.score(x_test, y_test))\n"
   ]
  },
  {
   "cell_type": "code",
   "execution_count": 38,
   "id": "b869135c",
   "metadata": {
    "execution": {
     "iopub.execute_input": "2025-05-23T04:29:25.011806Z",
     "iopub.status.busy": "2025-05-23T04:29:25.011402Z",
     "iopub.status.idle": "2025-05-23T04:29:25.757102Z",
     "shell.execute_reply": "2025-05-23T04:29:25.756047Z"
    },
    "papermill": {
     "duration": 0.762881,
     "end_time": "2025-05-23T04:29:25.758753",
     "exception": false,
     "start_time": "2025-05-23T04:29:24.995872",
     "status": "completed"
    },
    "tags": []
   },
   "outputs": [
    {
     "name": "stdout",
     "output_type": "stream",
     "text": [
      "ACCURACY 0.8072916666666666\n"
     ]
    }
   ],
   "source": [
    "from sklearn.ensemble import RandomForestClassifier\n",
    "\n",
    "model = RandomForestClassifier(random_state=37)\n",
    "multimodal(model, x, y)\n"
   ]
  },
  {
   "cell_type": "code",
   "execution_count": null,
   "id": "90e6a7cb",
   "metadata": {
    "papermill": {
     "duration": 0.012457,
     "end_time": "2025-05-23T04:29:25.784379",
     "exception": false,
     "start_time": "2025-05-23T04:29:25.771922",
     "status": "completed"
    },
    "tags": []
   },
   "outputs": [],
   "source": []
  }
 ],
 "metadata": {
  "kaggle": {
   "accelerator": "none",
   "dataSources": [
    {
     "databundleVersionId": 26502,
     "sourceId": 3136,
     "sourceType": "competition"
    }
   ],
   "dockerImageVersionId": 31040,
   "isGpuEnabled": false,
   "isInternetEnabled": true,
   "language": "python",
   "sourceType": "notebook"
  },
  "kernelspec": {
   "display_name": "Python 3",
   "language": "python",
   "name": "python3"
  },
  "language_info": {
   "codemirror_mode": {
    "name": "ipython",
    "version": 3
   },
   "file_extension": ".py",
   "mimetype": "text/x-python",
   "name": "python",
   "nbconvert_exporter": "python",
   "pygments_lexer": "ipython3",
   "version": "3.11.11"
  },
  "papermill": {
   "default_parameters": {},
   "duration": 15.45525,
   "end_time": "2025-05-23T04:29:26.721075",
   "environment_variables": {},
   "exception": null,
   "input_path": "__notebook__.ipynb",
   "output_path": "__notebook__.ipynb",
   "parameters": {},
   "start_time": "2025-05-23T04:29:11.265825",
   "version": "2.6.0"
  }
 },
 "nbformat": 4,
 "nbformat_minor": 5
}
